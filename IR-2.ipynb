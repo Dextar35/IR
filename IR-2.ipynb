{
 "cells": [
  {
   "cell_type": "code",
   "execution_count": 1,
   "id": "eacfb170-641e-44d7-82d4-7f1214aaf334",
   "metadata": {},
   "outputs": [],
   "source": [
    "import nltk\n",
    "from nltk.corpus import stopwords\n",
    "from nltk.tokenize import word_tokenize"
   ]
  },
  {
   "cell_type": "code",
   "execution_count": 3,
   "id": "65101de2-380d-4aad-a8f5-22f037b481e1",
   "metadata": {},
   "outputs": [],
   "source": [
    "stop_words = set(stopwords.words('english'))"
   ]
  },
  {
   "cell_type": "code",
   "execution_count": 4,
   "id": "cee428cc-41ae-4e0b-be60-4617047d556d",
   "metadata": {},
   "outputs": [],
   "source": [
    "docs = [\n",
    "    [\"d1\",\"Welcome to hotel heaven such a lovely place\"],\n",
    "    [\"d2\",\"She is buying a stairway to heaven\"],\n",
    "    [\"d3\",\"Don't make it bad\"],\n",
    "    [\"d4\",\"Take me to the heaven\"]\n",
    "]"
   ]
  },
  {
   "cell_type": "code",
   "execution_count": 5,
   "id": "28a61b32-cd93-4667-bcb0-0cbf5cd333aa",
   "metadata": {},
   "outputs": [],
   "source": [
    "best_matches = []\n",
    "exact_matches = []"
   ]
  },
  {
   "cell_type": "code",
   "execution_count": 6,
   "id": "5a158db9-4b49-4c84-9d8b-a987af9c917a",
   "metadata": {},
   "outputs": [
    {
     "name": "stdin",
     "output_type": "stream",
     "text": [
      "Enter query :  heaven\n"
     ]
    },
    {
     "name": "stdout",
     "output_type": "stream",
     "text": [
      "Best Matches :  []\n",
      "Exact Matches :  ['d1', 'd2', 'd4']\n"
     ]
    }
   ],
   "source": [
    "query = input(\"Enter query : \").strip()\n",
    "if not query:\n",
    "    print (\"Empty query\")\n",
    "else:\n",
    "    query_tokens = [t.lower() for t in word_tokenize(query) if t.isalnum() and t.lower() not in stop_words]\n",
    "    for doc_id, text in docs:\n",
    "        doc_tokens = [t.lower() for t in word_tokenize(text) if t.isalnum() and t.lower() not in stop_words]\n",
    "\n",
    "        # Best Matches\n",
    "        any_overlap = any(tokens in doc_tokens for tokens in query_tokens)\n",
    "        if any_overlap:\n",
    "            best_matches.append(doc_id)\n",
    "\n",
    "        # Exact Matches\n",
    "        if query_tokens and set(query_tokens).issubset(doc_tokens):\n",
    "            if doc_id in best_matches:\n",
    "                best_matches.remove(doc_id)\n",
    "            exact_matches.append(doc_id)\n",
    "\n",
    "    print (\"Best Matches : \",best_matches)\n",
    "    print (\"Exact Matches : \",exact_matches)"
   ]
  },
  {
   "cell_type": "code",
   "execution_count": null,
   "id": "903dd5c8-2205-4394-aa73-07093fa49351",
   "metadata": {},
   "outputs": [],
   "source": []
  },
  {
   "cell_type": "code",
   "execution_count": null,
   "id": "8d5f5c8a-dca4-4a03-8131-5799dd46aaa4",
   "metadata": {},
   "outputs": [],
   "source": []
  },
  {
   "cell_type": "code",
   "execution_count": null,
   "id": "5a7bed3d-0a0c-41d6-84ec-9eace90357db",
   "metadata": {},
   "outputs": [],
   "source": []
  },
  {
   "cell_type": "code",
   "execution_count": null,
   "id": "c32ddbd5-d5e4-4205-ae42-7542d2a54d5f",
   "metadata": {},
   "outputs": [],
   "source": []
  }
 ],
 "metadata": {
  "kernelspec": {
   "display_name": "Python 3 (ipykernel)",
   "language": "python",
   "name": "python3"
  },
  "language_info": {
   "codemirror_mode": {
    "name": "ipython",
    "version": 3
   },
   "file_extension": ".py",
   "mimetype": "text/x-python",
   "name": "python",
   "nbconvert_exporter": "python",
   "pygments_lexer": "ipython3",
   "version": "3.13.7"
  }
 },
 "nbformat": 4,
 "nbformat_minor": 5
}
